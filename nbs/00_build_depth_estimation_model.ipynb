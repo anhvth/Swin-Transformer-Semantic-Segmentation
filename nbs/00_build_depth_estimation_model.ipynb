{
 "cells": [
  {
   "cell_type": "code",
   "execution_count": 59,
   "id": "7d340d56-4018-4a07-8aab-aae673ffd557",
   "metadata": {},
   "outputs": [
    {
     "name": "stdout",
     "output_type": "stream",
     "text": [
      "/home/av/gitprojects\n"
     ]
    }
   ],
   "source": [
    "cd .."
   ]
  },
  {
   "cell_type": "code",
   "execution_count": 60,
   "id": "f5c2b535-83e0-4181-a212-57cfe183fd4d",
   "metadata": {},
   "outputs": [
    {
     "name": "stdout",
     "output_type": "stream",
     "text": [
      "The autoreload extension is already loaded. To reload it, use:\n",
      "  %reload_ext autoreload\n"
     ]
    }
   ],
   "source": [
    "%load_ext autoreload\n",
    "%autoreload 2"
   ]
  },
  {
   "cell_type": "code",
   "execution_count": 33,
   "id": "b8f5c17e-e4a6-49b0-bb7e-423b9868f781",
   "metadata": {},
   "outputs": [],
   "source": [
    "import argparse\n",
    "import copy\n",
    "import os\n",
    "import os.path as osp\n",
    "import time\n",
    "\n",
    "import mmcv\n",
    "import torch\n",
    "from mmcv.runner import init_dist\n",
    "from mmcv.utils import Config, DictAction, get_git_hash\n",
    "\n",
    "from mmseg import __version__\n",
    "from mmseg.apis import set_random_seed, train_segmentor\n",
    "from mmseg.datasets import build_dataset\n",
    "from mmseg.models import build_segmentor\n",
    "from mmseg.utils import collect_env, get_root_logger\n"
   ]
  },
  {
   "cell_type": "code",
   "execution_count": 34,
   "id": "1c2ceef3-b4d5-48eb-adc8-39a68f93555d",
   "metadata": {},
   "outputs": [],
   "source": [
    "def parse_args():\n",
    "    parser = argparse.ArgumentParser(description='Train a segmentor')\n",
    "    parser.add_argument('config', help='train config file path')\n",
    "    parser.add_argument('--work-dir', help='the dir to save logs and models')\n",
    "    parser.add_argument(\n",
    "        '--load-from', help='the checkpoint file to load weights from')\n",
    "    parser.add_argument(\n",
    "        '--resume-from', help='the checkpoint file to resume from')\n",
    "    parser.add_argument(\n",
    "        '--no-validate',\n",
    "        action='store_true',\n",
    "        help='whether not to evaluate the checkpoint during training')\n",
    "    group_gpus = parser.add_mutually_exclusive_group()\n",
    "    group_gpus.add_argument(\n",
    "        '--gpus',\n",
    "        type=int,\n",
    "        help='number of gpus to use '\n",
    "        '(only applicable to non-distributed training)')\n",
    "    group_gpus.add_argument(\n",
    "        '--gpu-ids',\n",
    "        type=int,\n",
    "        nargs='+',\n",
    "        help='ids of gpus to use '\n",
    "        '(only applicable to non-distributed training)')\n",
    "    parser.add_argument('--seed', type=int, default=None, help='random seed')\n",
    "    parser.add_argument(\n",
    "        '--deterministic',\n",
    "        action='store_true',\n",
    "        help='whether to set deterministic options for CUDNN backend.')\n",
    "    parser.add_argument(\n",
    "        '--options', nargs='+', action=DictAction, help='custom options')\n",
    "    parser.add_argument(\n",
    "        '--launcher',\n",
    "        choices=['none', 'pytorch', 'slurm', 'mpi'],\n",
    "        default='none',\n",
    "        help='job launcher')\n",
    "    parser.add_argument('--local_rank', type=int, default=0)\n",
    "    return parser\n",
    "\n",
    "parser = parse_args()\n",
    "args = parser.parse_known_args()[0]"
   ]
  },
  {
   "cell_type": "code",
   "execution_count": 35,
   "id": "cb04ceca-9785-42ff-91de-eceedba7a1ba",
   "metadata": {},
   "outputs": [],
   "source": [
    "cfg = Config.fromfile('configs/depth_estimation/swin_depth_v1.py')# args"
   ]
  },
  {
   "cell_type": "code",
   "execution_count": 36,
   "id": "f65949eb-02ba-4967-b360-10a16e37e233",
   "metadata": {},
   "outputs": [],
   "source": [
    "if args.options is not None:\n",
    "    cfg.merge_from_dict(args.options)\n",
    "# set cudnn_benchmark\n",
    "if cfg.get('cudnn_benchmark', False):\n",
    "    torch.backends.cudnn.benchmark = True\n",
    "\n",
    "# work_dir is determined in this priority: CLI > segment in file > filename\n",
    "if args.work_dir is not None:\n",
    "    # update configs according to CLI args if args.work_dir is not None\n",
    "    cfg.work_dir = args.work_dir\n",
    "elif cfg.get('work_dir', None) is None:\n",
    "    # use config filename as default work_dir if cfg.work_dir is None\n",
    "    cfg.work_dir = osp.join('./work_dirs',\n",
    "                            osp.splitext(osp.basename(args.config))[0])\n",
    "if args.load_from is not None:\n",
    "    cfg.load_from = args.load_from\n",
    "if args.resume_from is not None:\n",
    "    cfg.resume_from = args.resume_from\n",
    "if args.gpu_ids is not None:\n",
    "    cfg.gpu_ids = args.gpu_ids\n",
    "else:\n",
    "    cfg.gpu_ids = range(1) if args.gpus is None else range(args.gpus)\n",
    "\n",
    "# init distributed env first, since logger depends on the dist info.\n",
    "if args.launcher == 'none':\n",
    "    distributed = False\n",
    "else:\n",
    "    distributed = True\n",
    "    init_dist(args.launcher, **cfg.dist_params)"
   ]
  },
  {
   "cell_type": "code",
   "execution_count": 37,
   "id": "ed511c42-e84f-4f23-b8d9-4c3ff9751055",
   "metadata": {
    "tags": []
   },
   "outputs": [
    {
     "name": "stderr",
     "output_type": "stream",
     "text": [
      "2021-09-27 15:11:41,712 - mmseg - INFO - Environment info:\n",
      "------------------------------------------------------------\n",
      "sys.platform: linux\n",
      "Python: 3.8.11 (default, Aug  3 2021, 15:09:35) [GCC 7.5.0]\n",
      "CUDA available: True\n",
      "GPU 0,1,2,3,4,5,6,7: Tesla V100-SXM2-32GB\n",
      "CUDA_HOME: /usr/local/cuda\n",
      "NVCC: Cuda compilation tools, release 10.1, V10.1.243\n",
      "GCC: gcc (Ubuntu 5.4.0-6ubuntu1~16.04.12) 5.4.0 20160609\n",
      "PyTorch: 1.9.1\n",
      "PyTorch compiling details: PyTorch built with:\n",
      "  - GCC 7.3\n",
      "  - C++ Version: 201402\n",
      "  - Intel(R) oneAPI Math Kernel Library Version 2021.3-Product Build 20210617 for Intel(R) 64 architecture applications\n",
      "  - Intel(R) MKL-DNN v2.1.2 (Git Hash 98be7e8afa711dc9b66c8ff3504129cb82013cdb)\n",
      "  - OpenMP 201511 (a.k.a. OpenMP 4.5)\n",
      "  - NNPACK is enabled\n",
      "  - CPU capability usage: AVX2\n",
      "  - CUDA Runtime 10.2\n",
      "  - NVCC architecture flags: -gencode;arch=compute_37,code=sm_37;-gencode;arch=compute_50,code=sm_50;-gencode;arch=compute_60,code=sm_60;-gencode;arch=compute_61,code=sm_61;-gencode;arch=compute_70,code=sm_70;-gencode;arch=compute_75,code=sm_75;-gencode;arch=compute_37,code=compute_37\n",
      "  - CuDNN 7.6.5\n",
      "  - Magma 2.5.2\n",
      "  - Build settings: BLAS_INFO=mkl, BUILD_TYPE=Release, CUDA_VERSION=10.2, CUDNN_VERSION=7.6.5, CXX_COMPILER=/opt/rh/devtoolset-7/root/usr/bin/c++, CXX_FLAGS= -Wno-deprecated -fvisibility-inlines-hidden -DUSE_PTHREADPOOL -fopenmp -DNDEBUG -DUSE_KINETO -DUSE_FBGEMM -DUSE_QNNPACK -DUSE_PYTORCH_QNNPACK -DUSE_XNNPACK -DSYMBOLICATE_MOBILE_DEBUG_HANDLE -O2 -fPIC -Wno-narrowing -Wall -Wextra -Werror=return-type -Wno-missing-field-initializers -Wno-type-limits -Wno-array-bounds -Wno-unknown-pragmas -Wno-sign-compare -Wno-unused-parameter -Wno-unused-variable -Wno-unused-function -Wno-unused-result -Wno-unused-local-typedefs -Wno-strict-overflow -Wno-strict-aliasing -Wno-error=deprecated-declarations -Wno-stringop-overflow -Wno-psabi -Wno-error=pedantic -Wno-error=redundant-decls -Wno-error=old-style-cast -fdiagnostics-color=always -faligned-new -Wno-unused-but-set-variable -Wno-maybe-uninitialized -fno-math-errno -fno-trapping-math -Werror=format -Wno-stringop-overflow, LAPACK_INFO=mkl, PERF_WITH_AVX=1, PERF_WITH_AVX2=1, PERF_WITH_AVX512=1, TORCH_VERSION=1.9.1, USE_CUDA=ON, USE_CUDNN=ON, USE_EXCEPTION_PTR=1, USE_GFLAGS=OFF, USE_GLOG=OFF, USE_MKL=ON, USE_MKLDNN=ON, USE_MPI=OFF, USE_NCCL=ON, USE_NNPACK=ON, USE_OPENMP=ON, \n",
      "\n",
      "TorchVision: 0.10.1\n",
      "OpenCV: 4.5.3\n",
      "MMCV: 1.3.14\n",
      "MMCV Compiler: GCC 5.4\n",
      "MMCV CUDA Compiler: 10.1\n",
      "MMSegmentation: 0.11.0+87e6f90\n",
      "------------------------------------------------------------\n",
      "\n"
     ]
    }
   ],
   "source": [
    "# create work_dir\n",
    "mmcv.mkdir_or_exist(osp.abspath(cfg.work_dir))\n",
    "# dump config\n",
    "cfg.dump(osp.join(cfg.work_dir, osp.basename(args.config)))\n",
    "# init the logger before other steps\n",
    "timestamp = time.strftime('%Y%m%d_%H%M%S', time.localtime())\n",
    "log_file = osp.join(cfg.work_dir, f'{timestamp}.log')\n",
    "logger = get_root_logger(log_file=log_file, log_level=cfg.log_level)\n",
    "\n",
    "# init the meta dict to record some important information such as\n",
    "# environment info and seed, which will be logged\n",
    "meta = dict()\n",
    "# log env info\n",
    "env_info_dict = collect_env()\n",
    "env_info = '\\n'.join([f'{k}: {v}' for k, v in env_info_dict.items()])\n",
    "dash_line = '-' * 60 + '\\n'\n",
    "logger.info('Environment info:\\n' + dash_line + env_info + '\\n' +\n",
    "            dash_line)\n",
    "meta['env_info'] = env_info\n",
    "\n",
    "# log some basic info\n",
    "# logger.info(f'Distributed training: {distributed}')\n",
    "# logger.info(f'Config:\\n{cfg.pretty_text}')\n",
    "\n",
    "# set random seeds\n",
    "if args.seed is not None:\n",
    "    logger.info(f'Set random seed to {args.seed}, deterministic: '\n",
    "                f'{args.deterministic}')\n",
    "    set_random_seed(args.seed, deterministic=args.deterministic)\n",
    "cfg.seed = args.seed\n",
    "meta['seed'] = args.seed\n",
    "meta['exp_name'] = osp.basename(args.config)\n",
    "\n",
    "model = build_segmentor(\n",
    "    cfg.model,\n",
    "    train_cfg=cfg.get('train_cfg'),\n",
    "    test_cfg=cfg.get('test_cfg'))"
   ]
  },
  {
   "cell_type": "markdown",
   "id": "cba10821-4778-496d-8dfd-6f2435b5102b",
   "metadata": {},
   "source": [
    "# Define dataset"
   ]
  },
  {
   "cell_type": "code",
   "execution_count": 38,
   "id": "99ac329d-a3fa-4660-a7f9-5fe93f480658",
   "metadata": {},
   "outputs": [],
   "source": [
    "from mmseg.datasets.custom import *\n",
    "\n",
    "@DATASETS.register_module(force=True)\n",
    "class WaymoDepthDataset(CustomDataset):\n",
    "    def __init__(self, *args,  depth_dir=None, depth_map_suffix='.npy',**kwargs):\n",
    "        self.depth_dir = depth_dir\n",
    "        self.depth_map_suffix = depth_map_suffix\n",
    "        super(WaymoDepthDataset, self).__init__(*args,**kwargs)\n",
    "    \n",
    "    \n",
    "    def pre_pipeline(self, results):\n",
    "        super().pre_pipeline(results)\n",
    "        results['depth_prefix'] = self.depth_dir\n",
    "        results['flip'] = False\n",
    "        results['flip_direction'] = None\n",
    "        \n",
    "    def load_annotations(self, img_dir, img_suffix, ann_dir, seg_map_suffix,\n",
    "                         split):\n",
    "        \"\"\"Load annotation from directory.\n",
    "\n",
    "        Args:\n",
    "            img_dir (str): Path to image directory\n",
    "            img_suffix (str): Suffix of images.\n",
    "            ann_dir (str|None): Path to annotation directory.\n",
    "            seg_map_suffix (str|None): Suffix of segmentation maps.\n",
    "            split (str|None): Split txt file. If split is specified, only file\n",
    "                with suffix in the splits will be loaded. Otherwise, all images\n",
    "                in img_dir/ann_dir will be loaded. Default: None\n",
    "\n",
    "        Returns:\n",
    "            list[dict]: All image info of dataset.\n",
    "        \"\"\"\n",
    "        depth_dir = self.depth_dir\n",
    "        depth_map_suffix = self.depth_map_suffix\n",
    "        img_infos = []\n",
    "        if split is not None:\n",
    "            with open(split) as f:\n",
    "                for line in f:\n",
    "                    img_name = line.strip()\n",
    "                    img_info = dict(filename=img_name + img_suffix)\n",
    "                    if ann_dir is not None:\n",
    "                        seg_map = img_name + seg_map_suffix\n",
    "                        img_info['ann'] = dict(seg_map=seg_map)\n",
    "                    img_infos.append(img_info)\n",
    "        else:\n",
    "            for img in mmcv.scandir(img_dir, img_suffix, recursive=True):\n",
    "                img_info = dict(filename=img)\n",
    "                if ann_dir is not None:\n",
    "                    seg_map = img.replace(img_suffix, seg_map_suffix)\n",
    "                    img_info['ann'] = dict(seg_map=seg_map)\n",
    "                if depth_dir is not None:\n",
    "                    depth_map = img.replace(img_suffix, depth_map_suffix)\n",
    "                    img_info['ann'] = dict(depth_map=depth_map)\n",
    "                img_infos.append(img_info)\n",
    "        print_log(f'Loaded {len(img_infos)} images', logger=get_root_logger())\n",
    "        return img_infos"
   ]
  },
  {
   "cell_type": "markdown",
   "id": "a4f9375b-6c95-4ee5-92d9-b529505b93fc",
   "metadata": {
    "tags": []
   },
   "source": [
    "## Load Depth anno"
   ]
  },
  {
   "cell_type": "code",
   "execution_count": 39,
   "id": "9c48c056-3178-44dc-96d8-4ec8d7f5ca10",
   "metadata": {},
   "outputs": [],
   "source": [
    "from mmseg.datasets.pipelines.loading import LoadAnnotations, PIPELINES\n",
    "\n",
    "@PIPELINES.register_module(force=True)\n",
    "class LoadDepthAnnotations(LoadAnnotations):\n",
    "    def __call__(self, results):\n",
    "        \"\"\"Call function to load multiple types annotations.\n",
    "\n",
    "            # constuct depth map from npy format\n",
    "        \"\"\"\n",
    "        print(results.keys())\n",
    "        if self.file_client is None:\n",
    "            self.file_client = mmcv.FileClient(**self.file_client_args)\n",
    "        \n",
    "        if results.get('depth_prefix', None) is not None:\n",
    "            filename = osp.join(results['depth_prefix'],\n",
    "                                results['ann_info']['depth_map'])\n",
    "        else:\n",
    "            filename = results['ann_info']['depth_map']\n",
    "\n",
    "        height, width = results['ori_shape'][:2]\n",
    "\n",
    "        data = np.load(filename)\n",
    "        in_side_img = (data[:,:2]<np.array([[width, height]])).sum(1)==2\n",
    "\n",
    "        depth = np.zeros([height, width], np.float32)\n",
    "        mask = np.zeros([height, width], bool)\n",
    "        \n",
    "        x = data[:,0].astype(int)[in_side_img]\n",
    "        y = data[:,1].astype(int)[in_side_img]\n",
    "        v = data[:,2][in_side_img]\n",
    "\n",
    "        depth[y, x] = v\n",
    "        mask[y,x] = True\n",
    "        \n",
    "        results['gt_depth'] = depth\n",
    "        results['depth_mask'] = (y,x)\n",
    "#         results['seg_fields'].append('gt_semantic_seg')\n",
    "        return results\n"
   ]
  },
  {
   "cell_type": "markdown",
   "id": "bb972801-fc00-4497-a660-1c97c9b95898",
   "metadata": {
    "tags": []
   },
   "source": [
    "# Build DS"
   ]
  },
  {
   "cell_type": "code",
   "execution_count": 40,
   "id": "e9fd2d18-a199-457b-8db3-9f41a809b9e9",
   "metadata": {},
   "outputs": [],
   "source": [
    "train_cfg = {'type': 'WaymoDepthDataset',\n",
    " 'data_root': 'data/waymo-depth/',\n",
    " 'img_dir': 'val/image',\n",
    " 'depth_dir': 'data/waymo-depth/val/depth',\n",
    " 'pipeline': [{'type': 'LoadImageFromFile'},\n",
    "  {'type': 'LoadDepthAnnotations', 'reduce_zero_label': True},\n",
    "#   {'type': 'Resize', 'img_scale': (2048, 512), 'ratio_range': (0.5, 2.0)},\n",
    "#   {'type': 'RandomCrop', 'crop_size': (512, 512), 'cat_max_ratio': 0.75},\n",
    "#   {'type': 'RandomFlip', 'prob': 0.5},\n",
    "  {'type': 'PhotoMetricDistortion'},\n",
    "  {'type': 'Normalize',\n",
    "   'mean': [123.675, 116.28, 103.53],\n",
    "   'std': [58.395, 57.12, 57.375],\n",
    "   'to_rgb': True},\n",
    "#   {'type': 'Pad', 'size': (512, 512), 'pad_val': 0, 'seg_pad_val': 255},\n",
    "  {'type': 'DefaultFormatBundle'},\n",
    "  {'type': 'Collect', 'keys': ['img', 'gt_depth', 'depth_mask']}]}"
   ]
  },
  {
   "cell_type": "code",
   "execution_count": 41,
   "id": "be88f31d-9db6-4285-a4a3-231d01cb6fe8",
   "metadata": {},
   "outputs": [
    {
     "name": "stderr",
     "output_type": "stream",
     "text": [
      "2021-09-27 15:11:46,355 - mmseg - INFO - Loaded 39791 images\n"
     ]
    }
   ],
   "source": [
    "train_ds = build_dataset(train_cfg)"
   ]
  },
  {
   "cell_type": "code",
   "execution_count": 42,
   "id": "0541c1f7-60cb-4ea8-8ed1-fbe9859ff108",
   "metadata": {},
   "outputs": [
    {
     "name": "stdout",
     "output_type": "stream",
     "text": [
      "LoadImageFromFile(to_float32=False,color_type='color',imdecode_backend='cv2')\n",
      "dict_keys(['img_info', 'ann_info', 'seg_fields', 'img_prefix', 'seg_prefix', 'depth_prefix', 'flip', 'flip_direction', 'filename', 'ori_filename', 'img', 'img_shape', 'ori_shape', 'pad_shape', 'scale_factor', 'img_norm_cfg'])\n",
      "LoadDepthAnnotations(reduce_zero_label=True,imdecode_backend='pillow')\n",
      "PhotoMetricDistortion(brightness_delta=32, contrast_range=(0.5, 1.5), saturation_range=(0.5, 1.5), hue_delta=18)\n",
      "Normalize(mean=[123.675 116.28  103.53 ], std=[58.395 57.12  57.375], to_rgb=True)\n",
      "DefaultFormatBundle\n",
      "Collect(keys=['img', 'gt_depth', 'depth_mask'], meta_keys=('filename', 'ori_filename', 'ori_shape', 'img_shape', 'pad_shape', 'scale_factor', 'flip', 'flip_direction', 'img_norm_cfg'))\n"
     ]
    }
   ],
   "source": [
    "item = train_ds[0]"
   ]
  },
  {
   "cell_type": "code",
   "execution_count": 43,
   "id": "a1bcba77-146a-4b24-8a9d-1f3bcb7a8da4",
   "metadata": {},
   "outputs": [],
   "source": [
    "# item['depth_mask']"
   ]
  },
  {
   "cell_type": "markdown",
   "id": "5332940c-806e-4131-88a8-d34e206bbdd1",
   "metadata": {},
   "source": [
    "# Model "
   ]
  },
  {
   "cell_type": "code",
   "execution_count": 44,
   "id": "be880141-82b4-4530-827f-577daebb471a",
   "metadata": {},
   "outputs": [
    {
     "data": {
      "text/plain": [
       "{'type': 'EncoderDecoder',\n",
       " 'pretrained': None,\n",
       " 'backbone': {'type': 'SwinTransformer',\n",
       "  'embed_dim': 96,\n",
       "  'depths': [2, 2, 6, 2],\n",
       "  'num_heads': [3, 6, 12, 24],\n",
       "  'window_size': 7,\n",
       "  'mlp_ratio': 4.0,\n",
       "  'qkv_bias': True,\n",
       "  'qk_scale': None,\n",
       "  'drop_rate': 0.0,\n",
       "  'attn_drop_rate': 0.0,\n",
       "  'drop_path_rate': 0.3,\n",
       "  'ape': False,\n",
       "  'patch_norm': True,\n",
       "  'out_indices': (0, 1, 2, 3),\n",
       "  'use_checkpoint': False},\n",
       " 'decode_head': {'type': 'UPerHead',\n",
       "  'in_channels': [96, 192, 384, 768],\n",
       "  'in_index': [0, 1, 2, 3],\n",
       "  'pool_scales': (1, 2, 3, 6),\n",
       "  'channels': 512,\n",
       "  'dropout_ratio': 0.1,\n",
       "  'num_classes': 1,\n",
       "  'norm_cfg': {'type': 'SyncBN', 'requires_grad': True},\n",
       "  'align_corners': False,\n",
       "  'loss_decode': {'type': 'CrossEntropyLoss',\n",
       "   'use_sigmoid': False,\n",
       "   'loss_weight': 1.0}},\n",
       " 'auxiliary_head': None,\n",
       " 'train_cfg': {},\n",
       " 'test_cfg': {'mode': 'whole'}}"
      ]
     },
     "execution_count": 44,
     "metadata": {},
     "output_type": "execute_result"
    }
   ],
   "source": [
    "cfg.model"
   ]
  },
  {
   "cell_type": "code",
   "execution_count": 56,
   "id": "b34261c9-41b0-4b56-b413-4e66f4af80a7",
   "metadata": {},
   "outputs": [],
   "source": [
    "model = build_segmentor(\n",
    "{'type': 'EncoderDecoder',\n",
    " 'pretrained': None,\n",
    " 'backbone': {'type': 'SwinTransformer',\n",
    "  'embed_dim': 96,\n",
    "  'depths': [2, 2, 6, 2],\n",
    "  'num_heads': [3, 6, 12, 24],\n",
    "  'window_size': 7,\n",
    "  'mlp_ratio': 4.0,\n",
    "  'qkv_bias': True,\n",
    "  'qk_scale': None,\n",
    "  'drop_rate': 0.0,\n",
    "  'attn_drop_rate': 0.0,\n",
    "  'drop_path_rate': 0.3,\n",
    "  'ape': False,\n",
    "  'patch_norm': True,\n",
    "  'out_indices': (0, 1, 2, 3),\n",
    "  'use_checkpoint': False},\n",
    " 'decode_head': {'type': 'UPerHead',\n",
    "  'in_channels': [96, 192, 384, 768],\n",
    "  'in_index': [0, 1, 2, 3],\n",
    "  'pool_scales': (1, 2, 3, 6),\n",
    "  'channels': 512,\n",
    "  'dropout_ratio': 0.1,\n",
    "  'num_classes': 1,\n",
    "  'norm_cfg': {'type': 'BN', 'requires_grad': True},\n",
    "  'align_corners': False,\n",
    "  'loss_decode': {'type': 'CrossEntropyLoss',\n",
    "   'use_sigmoid': False,\n",
    "   'loss_weight': 1.0}},\n",
    " 'auxiliary_head': None,\n",
    " 'train_cfg': {},\n",
    " 'test_cfg': {'mode': 'whole'}}\n",
    ").cuda()"
   ]
  },
  {
   "cell_type": "code",
   "execution_count": 57,
   "id": "e2de5a69-c9cd-4d77-857c-772108e76bfe",
   "metadata": {},
   "outputs": [],
   "source": [
    "with torch.no_grad():\n",
    "    dummy_inputs = torch.randn(2,3,1280,1920).cuda()\n",
    "    out = model.forward_dummy(dummy_inputs)"
   ]
  },
  {
   "cell_type": "code",
   "execution_count": 62,
   "id": "737fecff-86bb-4861-b483-7ebae37059d5",
   "metadata": {},
   "outputs": [],
   "source": [
    "# out.shape"
   ]
  },
  {
   "cell_type": "code",
   "execution_count": 52,
   "id": "17f92641-45ad-4b87-8c79-62e93f6c95ae",
   "metadata": {},
   "outputs": [
    {
     "data": {
      "text/plain": [
       "mmseg.models.segmentors.encoder_decoder.EncoderDecoder"
      ]
     },
     "execution_count": 52,
     "metadata": {},
     "output_type": "execute_result"
    }
   ],
   "source": [
    "# type(model)"
   ]
  },
  {
   "cell_type": "code",
   "execution_count": 61,
   "id": "049a7af3-76fc-4bfc-8b98-cfb65cb5e3fc",
   "metadata": {},
   "outputs": [
    {
     "ename": "TypeError",
     "evalue": "forward_train() missing 1 required positional argument: 'gt_semantic_seg'",
     "output_type": "error",
     "traceback": [
      "\u001b[0;31m---------------------------------------------------------------------------\u001b[0m",
      "\u001b[0;31mTypeError\u001b[0m                                 Traceback (most recent call last)",
      "\u001b[0;32m/tmp/ipykernel_64735/1370441865.py\u001b[0m in \u001b[0;36m<module>\u001b[0;34m\u001b[0m\n\u001b[0;32m----> 1\u001b[0;31m \u001b[0mmodel\u001b[0m\u001b[0;34m(\u001b[0m\u001b[0mdummy_inputs\u001b[0m\u001b[0;34m,\u001b[0m \u001b[0;34m{\u001b[0m\u001b[0;34m}\u001b[0m\u001b[0;34m)\u001b[0m\u001b[0;34m\u001b[0m\u001b[0;34m\u001b[0m\u001b[0m\n\u001b[0m",
      "\u001b[0;32m~/miniconda3/envs/mmseg/lib/python3.8/site-packages/torch/nn/modules/module.py\u001b[0m in \u001b[0;36m_call_impl\u001b[0;34m(self, *input, **kwargs)\u001b[0m\n\u001b[1;32m   1049\u001b[0m         if not (self._backward_hooks or self._forward_hooks or self._forward_pre_hooks or _global_backward_hooks\n\u001b[1;32m   1050\u001b[0m                 or _global_forward_hooks or _global_forward_pre_hooks):\n\u001b[0;32m-> 1051\u001b[0;31m             \u001b[0;32mreturn\u001b[0m \u001b[0mforward_call\u001b[0m\u001b[0;34m(\u001b[0m\u001b[0;34m*\u001b[0m\u001b[0minput\u001b[0m\u001b[0;34m,\u001b[0m \u001b[0;34m**\u001b[0m\u001b[0mkwargs\u001b[0m\u001b[0;34m)\u001b[0m\u001b[0;34m\u001b[0m\u001b[0;34m\u001b[0m\u001b[0m\n\u001b[0m\u001b[1;32m   1052\u001b[0m         \u001b[0;31m# Do not call functions when jit is used\u001b[0m\u001b[0;34m\u001b[0m\u001b[0;34m\u001b[0m\u001b[0;34m\u001b[0m\u001b[0m\n\u001b[1;32m   1053\u001b[0m         \u001b[0mfull_backward_hooks\u001b[0m\u001b[0;34m,\u001b[0m \u001b[0mnon_full_backward_hooks\u001b[0m \u001b[0;34m=\u001b[0m \u001b[0;34m[\u001b[0m\u001b[0;34m]\u001b[0m\u001b[0;34m,\u001b[0m \u001b[0;34m[\u001b[0m\u001b[0;34m]\u001b[0m\u001b[0;34m\u001b[0m\u001b[0;34m\u001b[0m\u001b[0m\n",
      "\u001b[0;32m~/miniconda3/envs/mmseg/lib/python3.8/site-packages/mmcv/runner/fp16_utils.py\u001b[0m in \u001b[0;36mnew_func\u001b[0;34m(*args, **kwargs)\u001b[0m\n\u001b[1;32m     96\u001b[0m                                 'method of nn.Module')\n\u001b[1;32m     97\u001b[0m             \u001b[0;32mif\u001b[0m \u001b[0;32mnot\u001b[0m \u001b[0;34m(\u001b[0m\u001b[0mhasattr\u001b[0m\u001b[0;34m(\u001b[0m\u001b[0margs\u001b[0m\u001b[0;34m[\u001b[0m\u001b[0;36m0\u001b[0m\u001b[0;34m]\u001b[0m\u001b[0;34m,\u001b[0m \u001b[0;34m'fp16_enabled'\u001b[0m\u001b[0;34m)\u001b[0m \u001b[0;32mand\u001b[0m \u001b[0margs\u001b[0m\u001b[0;34m[\u001b[0m\u001b[0;36m0\u001b[0m\u001b[0;34m]\u001b[0m\u001b[0;34m.\u001b[0m\u001b[0mfp16_enabled\u001b[0m\u001b[0;34m)\u001b[0m\u001b[0;34m:\u001b[0m\u001b[0;34m\u001b[0m\u001b[0;34m\u001b[0m\u001b[0m\n\u001b[0;32m---> 98\u001b[0;31m                 \u001b[0;32mreturn\u001b[0m \u001b[0mold_func\u001b[0m\u001b[0;34m(\u001b[0m\u001b[0;34m*\u001b[0m\u001b[0margs\u001b[0m\u001b[0;34m,\u001b[0m \u001b[0;34m**\u001b[0m\u001b[0mkwargs\u001b[0m\u001b[0;34m)\u001b[0m\u001b[0;34m\u001b[0m\u001b[0;34m\u001b[0m\u001b[0m\n\u001b[0m\u001b[1;32m     99\u001b[0m \u001b[0;34m\u001b[0m\u001b[0m\n\u001b[1;32m    100\u001b[0m             \u001b[0;31m# get the arg spec of the decorated method\u001b[0m\u001b[0;34m\u001b[0m\u001b[0;34m\u001b[0m\u001b[0;34m\u001b[0m\u001b[0m\n",
      "\u001b[0;32m~/gitprojects/Swin-Transformer-Semantic-Segmentation/mmseg/models/segmentors/base.py\u001b[0m in \u001b[0;36mforward\u001b[0;34m(self, img, img_metas, return_loss, **kwargs)\u001b[0m\n\u001b[1;32m    120\u001b[0m         \"\"\"\n\u001b[1;32m    121\u001b[0m         \u001b[0;32mif\u001b[0m \u001b[0mreturn_loss\u001b[0m\u001b[0;34m:\u001b[0m\u001b[0;34m\u001b[0m\u001b[0;34m\u001b[0m\u001b[0m\n\u001b[0;32m--> 122\u001b[0;31m             \u001b[0;32mreturn\u001b[0m \u001b[0mself\u001b[0m\u001b[0;34m.\u001b[0m\u001b[0mforward_train\u001b[0m\u001b[0;34m(\u001b[0m\u001b[0mimg\u001b[0m\u001b[0;34m,\u001b[0m \u001b[0mimg_metas\u001b[0m\u001b[0;34m,\u001b[0m \u001b[0;34m**\u001b[0m\u001b[0mkwargs\u001b[0m\u001b[0;34m)\u001b[0m\u001b[0;34m\u001b[0m\u001b[0;34m\u001b[0m\u001b[0m\n\u001b[0m\u001b[1;32m    123\u001b[0m         \u001b[0;32melse\u001b[0m\u001b[0;34m:\u001b[0m\u001b[0;34m\u001b[0m\u001b[0;34m\u001b[0m\u001b[0m\n\u001b[1;32m    124\u001b[0m             \u001b[0;32mreturn\u001b[0m \u001b[0mself\u001b[0m\u001b[0;34m.\u001b[0m\u001b[0mforward_test\u001b[0m\u001b[0;34m(\u001b[0m\u001b[0mimg\u001b[0m\u001b[0;34m,\u001b[0m \u001b[0mimg_metas\u001b[0m\u001b[0;34m,\u001b[0m \u001b[0;34m**\u001b[0m\u001b[0mkwargs\u001b[0m\u001b[0;34m)\u001b[0m\u001b[0;34m\u001b[0m\u001b[0;34m\u001b[0m\u001b[0m\n",
      "\u001b[0;31mTypeError\u001b[0m: forward_train() missing 1 required positional argument: 'gt_semantic_seg'"
     ]
    }
   ],
   "source": [
    "# model(dummy_inputs, {})"
   ]
  },
  {
   "cell_type": "code",
   "execution_count": null,
   "id": "928dfc18-a09d-4154-97a4-934fe19f41ab",
   "metadata": {},
   "outputs": [],
   "source": []
  },
  {
   "cell_type": "code",
   "execution_count": null,
   "id": "5342a140-907d-4bcc-a8f2-dd35857570c6",
   "metadata": {},
   "outputs": [],
   "source": []
  }
 ],
 "metadata": {
  "kernelspec": {
   "display_name": "Python 3 (ipykernel)",
   "language": "python",
   "name": "python3"
  },
  "language_info": {
   "codemirror_mode": {
    "name": "ipython",
    "version": 3
   },
   "file_extension": ".py",
   "mimetype": "text/x-python",
   "name": "python",
   "nbconvert_exporter": "python",
   "pygments_lexer": "ipython3",
   "version": "3.8.11"
  },
  "toc-autonumbering": true
 },
 "nbformat": 4,
 "nbformat_minor": 5
}
